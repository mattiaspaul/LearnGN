{
 "cells": [
  {
   "cell_type": "code",
   "execution_count": 1,
   "id": "c5beb782",
   "metadata": {},
   "outputs": [
    {
     "name": "stdout",
     "output_type": "stream",
     "text": [
      "Sat Apr 23 00:08:50 2022       \n",
      "+-----------------------------------------------------------------------------+\n",
      "| NVIDIA-SMI 495.29.05    Driver Version: 495.29.05    CUDA Version: 11.5     |\n",
      "|-------------------------------+----------------------+----------------------+\n",
      "| GPU  Name        Persistence-M| Bus-Id        Disp.A | Volatile Uncorr. ECC |\n",
      "| Fan  Temp  Perf  Pwr:Usage/Cap|         Memory-Usage | GPU-Util  Compute M. |\n",
      "|                               |                      |               MIG M. |\n",
      "|===============================+======================+======================|\n",
      "|   0  NVIDIA RTX A4000    On   | 00000000:01:00.0 Off |                  Off |\n",
      "| 41%   38C    P2    36W / 140W |   4420MiB / 16117MiB |      0%      Default |\n",
      "|                               |                      |                  N/A |\n",
      "+-------------------------------+----------------------+----------------------+\n",
      "|   1  NVIDIA RTX A4000    On   | 00000000:42:00.0 Off |                  Off |\n",
      "| 41%   28C    P8    14W / 140W |      3MiB / 16117MiB |      0%      Default |\n",
      "|                               |                      |                  N/A |\n",
      "+-------------------------------+----------------------+----------------------+\n",
      "|   2  NVIDIA RTX A4000    On   | 00000000:81:00.0 Off |                  Off |\n",
      "| 41%   29C    P8    14W / 140W |      3MiB / 16117MiB |      0%      Default |\n",
      "|                               |                      |                  N/A |\n",
      "+-------------------------------+----------------------+----------------------+\n",
      "|   3  NVIDIA A40          On   | 00000000:C1:00.0 Off |                    0 |\n",
      "|  0%   33C    P0    72W / 300W |   3951MiB / 45634MiB |      0%      Default |\n",
      "|                               |                      |                  N/A |\n",
      "+-------------------------------+----------------------+----------------------+\n",
      "                                                                               \n",
      "+-----------------------------------------------------------------------------+\n",
      "| Processes:                                                                  |\n",
      "|  GPU   GI   CI        PID   Type   Process name                  GPU Memory |\n",
      "|        ID   ID                                                   Usage      |\n",
      "|=============================================================================|\n",
      "|    3   N/A  N/A    988327      C   /opt/tljh/user/bin/python        3949MiB |\n",
      "+-----------------------------------------------------------------------------+\n",
      "NVIDIA RTX A4000\n"
     ]
    }
   ],
   "source": [
    "import torch\n",
    "import torch.nn as nn\n",
    "import torch.nn.functional as F\n",
    "import matplotlib.pyplot as plt\n",
    "\n",
    "import torch\n",
    "import torch.nn as nn\n",
    "import torch.nn.functional as F\n",
    "import numpy as np\n",
    "\n",
    "!nvidia-smi\n",
    "import os\n",
    "os.environ[\"CUDA_DEVICE_ORDER\"] = \"PCI_BUS_ID\"\n",
    "os.environ['CUDA_VISIBLE_DEVICES'] = '2'\n",
    "import torch\n",
    "print(torch.cuda.get_device_name())\n"
   ]
  },
  {
   "cell_type": "code",
   "execution_count": 2,
   "id": "ccdd831a",
   "metadata": {},
   "outputs": [],
   "source": [
    "import numpy\n",
    "\n",
    "import cupy\n",
    "from cupy import cublas\n",
    "from cupy import cusparse\n",
    "from cupy.cuda import cusolver\n",
    "from cupy.cuda import device\n",
    "from cupy.cuda import runtime\n",
    "from cupy.linalg import _util\n",
    "import cupyx\n",
    "from cupyx.scipy import sparse\n",
    "from cupyx.scipy.sparse.linalg import _interface\n",
    "from cupyx.scipy.sparse.linalg._iterative import _make_system\n",
    "import nibabel as nib\n",
    "\n",
    "import cupy as cp\n",
    "def cupyCG(A2,b2):\n",
    "    #print(b2.shape,b2.dtype,b2.device)\n",
    "    b_val = cp.asarray(b2.data)\n",
    "    n1 = len(b_val)\n",
    "    A_ind = cp.asarray(A2._indices().data)\n",
    "    A_val = cp.asarray(A2._values().data)\n",
    "    SC = cupyx.scipy.sparse.csr_matrix((A_val,(A_ind[0,:],A_ind[1,:])), shape=(n1,n1))\n",
    "    solution = cupyx.scipy.sparse.linalg.cg(SC, b_val,tol=1e-3,maxiter=40)[0]#.get()#\n",
    "    x = torch.as_tensor(solution, device='cuda')\n",
    "    return x\n",
    "\n",
    "\n",
    "def dice_coeff(outputs, labels, max_label):\n",
    "    dice = torch.FloatTensor(max_label-1).fill_(0)\n",
    "    for label_num in range(1, max_label):\n",
    "        iflat = (outputs==label_num).view(-1).float()\n",
    "        tflat = (labels==label_num).view(-1).float()\n",
    "        intersection = torch.mean(iflat * tflat)\n",
    "        dice[label_num-1] = (2. * intersection) / (1e-8 + torch.mean(iflat) + torch.mean(tflat))\n",
    "    return dice\n",
    "\n"
   ]
  },
  {
   "cell_type": "code",
   "execution_count": 3,
   "id": "1ba23598",
   "metadata": {},
   "outputs": [
    {
     "name": "stdout",
     "output_type": "stream",
     "text": [
      "dict_keys(['__header__', '__version__', '__globals__', 'segs', 'test_seg'])\n",
      "dict_keys(['__header__', '__version__', '__globals__', 'segs', 'test_seg']) torch.Size([8, 320, 312])\n"
     ]
    }
   ],
   "source": [
    "data = torch.load('datablob2d_ct_seg.pth')\n",
    "print(data.keys())\n",
    "\n",
    "test_seg = torch.from_numpy(data['test_seg'])\n",
    "label = F.one_hot(test_seg.squeeze().long(),8).permute(2,0,1).float()\n",
    "print(data.keys(),label.shape)"
   ]
  },
  {
   "cell_type": "code",
   "execution_count": 4,
   "id": "b24796ab",
   "metadata": {},
   "outputs": [],
   "source": [
    "def laplaceMatrix(H,W,lambda_weight=500):\n",
    "    \n",
    "    xy = torch.arange(H*W).cuda().view(H,W);\n",
    "    i1 = torch.cat((xy[1:].reshape(1,-1),xy[:-1].reshape(1,-1)),0)\n",
    "    i2 = torch.cat((xy[:-1].reshape(1,-1),xy[1:].reshape(1,-1)),0)\n",
    "    i3 = torch.cat((xy[:,1:].reshape(1,-1),xy[:,:-1].reshape(1,-1)),0)\n",
    "    i4 = torch.cat((xy[:,:-1].reshape(1,-1),xy[:,1:].reshape(1,-1)),0)\n",
    "\n",
    "    idx = torch.cat((i1,i2,i3,i4),1)\n",
    "\n",
    "    val = torch.ones(2*(2*H*W-H-W)).cuda()\n",
    "\n",
    "    A = torch.sparse.FloatTensor(idx,-lambda_weight*val,(H*W,H*W))\n",
    "    D1 = -torch.sparse.sum(A,0).to_dense()\n",
    "    D = torch.sparse.FloatTensor(torch.cat((xy.view(1,-1),xy.view(1,-1)),0),D1,(H*W,H*W))\n",
    "        \n",
    "    return D+A\n",
    "\n",
    "L = laplaceMatrix(16,16)\n",
    "\n",
    "from matplotlib import cm\n",
    "from matplotlib import colors as mcolors\n",
    "import numpy as np\n",
    "def showFlow(def_x):\n",
    "    x = def_x.squeeze().numpy()[0,:,:]\n",
    "    y = def_x.squeeze().numpy()[1,:,:]\n",
    "    #show flow map for numpy\n",
    "    H, W = x.shape\n",
    "    rho = np.sqrt(x*x+y*y)\n",
    "    theta = np.arctan2(x,-y)\n",
    "    theta2 = (-theta+np.pi)/(2.0*np.pi);\n",
    "    rho = np.clip(rho/np.percentile(rho, 99),0,1)\n",
    "    hsv = np.stack((theta2,rho,np.ones((H,W))),axis=2)\n",
    "    rgb = mcolors.hsv_to_rgb(hsv)\n",
    "    return rgb\n",
    "\n"
   ]
  },
  {
   "cell_type": "code",
   "execution_count": 5,
   "id": "fba755aa",
   "metadata": {},
   "outputs": [],
   "source": [
    "from scipy.ndimage import distance_transform_edt as edt\n",
    "test_seg = torch.from_numpy(edt(data['test_seg'][0]>0)).sqrt()-torch.from_numpy(edt(data['test_seg'][0]==0)).sqrt()\n",
    "\n",
    "#plt.imshow(test_seg)\n",
    "#plt.colorbar()"
   ]
  },
  {
   "cell_type": "code",
   "execution_count": 6,
   "id": "14405310",
   "metadata": {},
   "outputs": [
    {
     "name": "stdout",
     "output_type": "stream",
     "text": [
      "torch.Size([1, 1, 320, 312])\n",
      "320 312 80.0 78.0\n",
      "tensor([0.1754, 0.4022, 0.0000, 0.1759, 0.6631, 0.0951, 0.5262]) tensor(0.2911)\n"
     ]
    }
   ],
   "source": [
    "#hold out validation pair\n",
    "train_seg = torch.from_numpy(data['segs'][:1])\n",
    "train_edt = torch.from_numpy(edt(data['segs'][:1][0]>0)).float().sqrt()-torch.from_numpy(edt(data['segs'][:1][0]==0)).float().sqrt()\n",
    "\n",
    "train_edt = train_edt.unsqueeze(0).unsqueeze(0)\n",
    "test_seg = torch.from_numpy(data['test_seg'])\n",
    "test_edt = torch.from_numpy(edt(data['test_seg'][0]>0)).float().sqrt()-torch.from_numpy(edt(data['test_seg'][0]==0)).float().sqrt()\n",
    "test_edt = test_edt.unsqueeze(0).unsqueeze(0)\n",
    "label_fix = F.one_hot(test_seg.squeeze().long(),8).permute(2,0,1).unsqueeze(0).float()\n",
    "label_moving = F.one_hot(train_seg.squeeze().long(),8).permute(2,0,1).unsqueeze(0).float()\n",
    "\n",
    "fixed = test_edt*20+torch.randn_like(test_edt)#data.fixed[:,:,1:-1]\n",
    "moving = train_edt*20+torch.randn_like(test_edt)#data.fixed[:,:,1:-1]\n",
    "\n",
    "print(fixed.shape)\n",
    "H,W = fixed.shape[-2:]\n",
    "print(H,W,H/4,W/4)\n",
    "\n",
    "\n",
    "d0 = dice_coeff(label_fix.argmax(1),label_moving.argmax(1),8)\n",
    "print(d0,d0.mean())\n",
    "\n",
    "def dice_coeff(outputs, labels, max_label):\n",
    "    dice = torch.FloatTensor(max_label-1).fill_(0)\n",
    "    for label_num in range(1, max_label):\n",
    "        iflat = (outputs==label_num).view(-1).float()\n",
    "        tflat = (labels==label_num).view(-1).float()\n",
    "        intersection = torch.mean(iflat * tflat)\n",
    "        dice[label_num-1] = (2. * intersection) / (1e-8 + torch.mean(iflat) + torch.mean(tflat))\n",
    "    return dice"
   ]
  },
  {
   "cell_type": "code",
   "execution_count": 7,
   "id": "d18a5ab0",
   "metadata": {},
   "outputs": [
    {
     "name": "stdout",
     "output_type": "stream",
     "text": [
      "80.0 78.0\n",
      "0.0735781192779541 time 1st Adam\n"
     ]
    },
    {
     "name": "stderr",
     "output_type": "stream",
     "text": [
      "/opt/tljh/user/lib/python3.9/site-packages/torch/nn/functional.py:4065: UserWarning: Default grid_sample and affine_grid behavior has changed to align_corners=False since 1.3.0. Please specify align_corners=True if the old behavior is desired. See the documentation of grid_sample for details.\n",
      "  warnings.warn(\n",
      "/opt/tljh/user/lib/python3.9/site-packages/torch/nn/functional.py:4003: UserWarning: Default grid_sample and affine_grid behavior has changed to align_corners=False since 1.3.0. Please specify align_corners=True if the old behavior is desired. See the documentation of grid_sample for details.\n",
      "  warnings.warn(\n"
     ]
    }
   ],
   "source": [
    "print(H/4,W/4)\n",
    "fixed = fixed.cuda()\n",
    "moving = moving.cuda()\n",
    "grid_sp = 4\n",
    "\n",
    "import time\n",
    "\n",
    "mind_mov = F.avg_pool2d(F.avg_pool2d(moving.cuda(),2),2)/128-1\n",
    "mind_fix = F.avg_pool2d(F.avg_pool2d(fixed.cuda(),2),2)/128-1\n",
    "#mind_mov = F.avg_pool2d(F.avg_pool2d(label_moving.cuda()*weight.view(1,-1,1,1),2),2)\n",
    "#mind_fix = F.avg_pool2d(F.avg_pool2d(label_fix.cuda()*weight.view(1,-1,1,1),2),2)\n",
    "\n",
    "\n",
    "mind_mov *= 1.5#5\n",
    "mind_fix *= 1.5#5\n",
    "\n",
    "run_tre1 = torch.zeros(25)\n",
    "net = nn.Sequential(nn.Conv2d(2,1,(H//grid_sp,W//grid_sp),bias=False))\n",
    "net[0].weight.data[:] = 0\n",
    "net.cuda()\n",
    "optimizer = torch.optim.Adam(net.parameters(), lr=1)\n",
    "grid0 = F.affine_grid(torch.eye(2,3).unsqueeze(0).cuda(),(1,1,H//grid_sp,W//grid_sp),align_corners=False)\n",
    "#run Adam optimisation with diffusion regularisation and B-spline smoothing\n",
    "lambda_weight = .75# with tps: .5, without:0.7\n",
    "t0 = time.time()\n",
    "for iter in range(25):\n",
    "    optimizer.zero_grad()\n",
    "    disp_sample = F.avg_pool2d(F.avg_pool2d(F.avg_pool2d(net[0].weight,3,stride=1,padding=1),3,stride=1,padding=1),3,stride=1,padding=1).permute(0,2,3,1)\n",
    "    reg_loss = lambda_weight*((disp_sample[0,:,1:,:]-disp_sample[0,:,:-1,:])**2).mean()+\\\n",
    "    lambda_weight*((disp_sample[0,1:,:,:]-disp_sample[0,:-1,:,:])**2).mean()\n",
    "    scale = torch.tensor([(H//grid_sp-1)/2,(W//grid_sp-1)/2]).cuda().unsqueeze(0)\n",
    "    grid_disp = grid0.view(-1,2).cuda().float()+((disp_sample.view(-1,2))/scale).flip(1).float()\n",
    "    patch_mov_sampled = F.grid_sample(mind_mov.float(),grid_disp.view(1,H//grid_sp,W//grid_sp,2).cuda(),align_corners=False,mode='bilinear')#,padding_mode='border')\n",
    "    sampled_cost = (patch_mov_sampled-mind_fix).pow(2).mean(1)#*12\n",
    "    \n",
    "    loss = sampled_cost.mean()\n",
    "    (loss+reg_loss).backward()\n",
    "    optimizer.step()\n",
    "    fitted_grid = disp_sample.permute(0,3,1,2).detach()\n",
    "    disp_hr = F.interpolate(fitted_grid*grid_sp,size=(H,W),mode='bilinear',align_corners=False)\n",
    "\n",
    "    disp_smooth = F.avg_pool2d(F.avg_pool2d(F.avg_pool2d(disp_hr,3,padding=1,stride=1),3,padding=1,stride=1),3,padding=1,stride=1)\n",
    "\n",
    "\n",
    "    disp_hr = torch.flip(disp_smooth/torch.tensor([H-1,W-1]).view(1,2,1,1).cuda()*2,[1])\n",
    "\n",
    "    label_warped = F.grid_sample(label_moving.cuda().view(1,-1,H,W),disp_hr.permute(0,2,3,1)+F.affine_grid(torch.eye(2,3).cuda().unsqueeze(0),(1,1,H,W)))\n",
    "\n",
    "\n",
    "\n",
    "    d1 = dice_coeff(label_fix.cuda().argmax(1),label_warped.argmax(1),8).cpu()\n",
    "#    print(d1,d1.mean())\n",
    "\n",
    "\n",
    "    \n",
    "    run_tre1[iter] = d1.mean()#tre1\n",
    "\n",
    "print(time.time()-t0,'time 1st Adam')\n",
    "#plt.imshow((patch_mov_sampled-mind_fix)[:,:1].squeeze().data.cpu(),'gray')\n",
    "#plt.colorbar()\n",
    "#plt.show()\n",
    "\n",
    "#plt.imshow(showFlow(disp_smooth.cpu().squeeze().data))\n",
    "#plt.show()\n",
    "#plt.plot(run_tre1)\n"
   ]
  },
  {
   "cell_type": "code",
   "execution_count": 8,
   "id": "6b3ad180",
   "metadata": {},
   "outputs": [],
   "source": [
    "from torch.autograd import Function\n",
    "class LSESolver(Function):\n",
    "\n",
    "    @staticmethod\n",
    "    def forward(ctx, A,d,b):\n",
    "        xy = torch.arange(len(b)).to(b.device)\n",
    "        A1 = torch.sparse.FloatTensor(torch.cat((xy.view(1,-1),xy.view(1,-1)),0),d,(len(b),len(b)))\n",
    "\n",
    "        x = cupyCG(A+A1,b).unsqueeze(1)\n",
    "        ctx.save_for_backward(A+A1,b,x)\n",
    "        return x\n",
    "\n",
    "    @staticmethod\n",
    "    def backward(ctx, grad_x):\n",
    "        AA1,b,x = ctx.saved_tensors\n",
    "        grad_b = cupyCG(AA1.t(),grad_x).unsqueeze(1)\n",
    "        grad_A = None\n",
    "        grad_d = -(x*grad_b)\n",
    "        return grad_A, grad_d.squeeze(), grad_b"
   ]
  },
  {
   "cell_type": "code",
   "execution_count": 10,
   "id": "cb3146ab",
   "metadata": {},
   "outputs": [
    {
     "name": "stderr",
     "output_type": "stream",
     "text": [
      "/opt/tljh/user/lib/python3.9/site-packages/torch/nn/functional.py:3631: UserWarning: Default upsampling behavior when mode=bilinear is changed to align_corners=False since 0.4.0. Please specify align_corners=True if the old behavior is desired. See the documentation of nn.Upsample for details.\n",
      "  warnings.warn(\n"
     ]
    },
    {
     "name": "stdout",
     "output_type": "stream",
     "text": [
      "time total 0.5617258548736572\n"
     ]
    },
    {
     "data": {
      "image/png": "[encoded data removed]",
      "text/plain": [
       "<Figure size 432x288 with 1 Axes>"
      ]
     },
     "metadata": {
      "needs_background": "light"
     },
     "output_type": "display_data"
    },
    {
     "name": "stdout",
     "output_type": "stream",
     "text": [
      "tensor([0.7207, 0.8115, 0.8422, 0.2523, 0.8598, 0.3391, 0.8510]) tensor(0.6681)\n"
     ]
    }
   ],
   "source": [
    "import math\n",
    "\n",
    "lambdas = torch.logspace(math.log10(150),math.log10(70),10)\n",
    "\n",
    "lse = LSESolver().apply\n",
    "\n",
    "\n",
    "\n",
    "import time\n",
    "\n",
    "t0 = time.time()\n",
    "\n",
    "\n",
    "run_tre2 = torch.zeros(10)\n",
    "\n",
    "\n",
    "grad_y = nn.Conv2d(1,1,(3,1),padding=(1,0),bias=False)\n",
    "grad_y.weight.data = torch.linspace(-.5,.5,3).view(1,1,3,1)\n",
    "grad_x = nn.Conv2d(1,1,(1,3),padding=(0,1),bias=False)\n",
    "grad_x.weight.data = torch.linspace(-.5,.5,3).view(1,1,1,3)\n",
    "grad_x.cuda()\n",
    "grad_y.cuda()\n",
    "\n",
    "\n",
    "\n",
    "update = torch.zeros(1,2,H//4,W//4).cuda()\n",
    "\n",
    "grid = F.avg_pool2d(F.avg_pool2d(2*update.div(torch.tensor([W-.5,H-.5]).cuda().view(1,2,1,1)),3,stride=1,padding=1),3,stride=1,padding=1)\\\n",
    "+F.affine_grid(torch.eye(2,3).cuda().unsqueeze(0),(1,1,H//4,W//4),align_corners=False).permute(0,3,1,2)\n",
    "\n",
    "#inner-loop\n",
    "for iter in range(10):\n",
    "    L = laplaceMatrix(H//4,W//4,lambdas[iter])\n",
    "\n",
    "\n",
    "    warped = F.grid_sample(moving,F.interpolate(grid,scale_factor=4,mode='bilinear').permute(0,2,3,1),align_corners=False,mode='bilinear',padding_mode='border')\n",
    "\n",
    "    warped_x = F.avg_pool2d(F.avg_pool2d(grad_x(warped),2),2)\n",
    "    warped_y = F.avg_pool2d(F.avg_pool2d(grad_y(warped),2),2)\n",
    "\n",
    "\n",
    "    loss = F.avg_pool2d(F.avg_pool2d(warped-fixed,2),2)\n",
    "    #.sum(1)\n",
    "    \n",
    "    grad = torch.cat((warped_x,warped_y,loss),1)\n",
    "    \n",
    "    bx = -((grad[:,2:])*grad[:,:1]).view(-1,1) - torch.sparse.mm(L,update[0,0].view(-1,1))\n",
    "    by = -((grad[:,2:])*grad[:,1:2]).view(-1,1) - torch.sparse.mm(L,update[0,1].view(-1,1))\n",
    "\n",
    "    x = lse(L,torch.pow(grad[0,0],2).view(-1),bx)\n",
    "    y = lse(L,torch.pow(grad[0,1],2).view(-1),by)\n",
    "\n",
    "\n",
    "    update[0,0] += x.view(H//4,W//4)\n",
    "    update[0,1] += y.view(H//4,W//4)\n",
    "\n",
    "    grid = F.avg_pool2d(F.avg_pool2d(2*update.div(torch.tensor([W-.5,H-.5]).cuda().view(1,2,1,1)),3,stride=1,padding=1),3,stride=1,padding=1)\\\n",
    "    +F.affine_grid(torch.eye(2,3).cuda().unsqueeze(0),(1,1,H//4,W//4),align_corners=False).permute(0,3,1,2)\n",
    "\n",
    "\n",
    "\n",
    "    label_warped = F.grid_sample(label_moving.cuda().view(1,-1,H,W),F.interpolate(grid,scale_factor=4,mode='bilinear').permute(0,2,3,1))\n",
    "\n",
    "\n",
    "    with torch.no_grad():\n",
    "        d2 = dice_coeff(label_fix.cuda().argmax(1),label_warped.argmax(1),8).cpu()\n",
    "        run_tre2[iter] = d2.mean()\n",
    "\n",
    "print('time total',time.time()-t0)\n",
    "\n",
    "\n",
    "\n",
    "import matplotlib\n",
    "matplotlib.rcParams.update({'font.size': 15})\n",
    "plt.plot(torch.arange(25),100*run_tre1,'s-',color='tab:purple',linewidth=2,label='Adam 1st order')\n",
    "plt.plot(torch.arange(10),100*run_tre2,'o-',color='tab:orange',linewidth=2,label='Gauss-Newton')\n",
    "plt.xlabel('iterations')\n",
    "plt.ylabel('Avg. Dice (7 labels)')\n",
    "\n",
    "plt.legend()\n",
    "plt.show()\n",
    "\n",
    "print(d2,d2.mean())\n",
    "\n",
    "\n",
    "\n"
   ]
  },
  {
   "cell_type": "code",
   "execution_count": null,
   "id": "6e0b2725",
   "metadata": {},
   "outputs": [],
   "source": []
  },
  {
   "cell_type": "code",
   "execution_count": 29,
   "id": "f5827a2a",
   "metadata": {},
   "outputs": [
    {
     "name": "stdout",
     "output_type": "stream",
     "text": [
      "tensor([0.2839, 0.8516, 1.0490, 1.4313, 1.0315, 0.9910, 1.2501, 1.1117],\n",
      "       device='cuda:0')\n"
     ]
    },
    {
     "data": {
      "text/plain": [
       "GradNet(\n",
       "  (grad_net_y): Sequential(\n",
       "    (0): Conv2d(1, 1, kernel_size=(3, 3), stride=(2, 2), padding=(1, 1), bias=False)\n",
       "    (1): Conv2d(1, 1, kernel_size=(3, 3), stride=(2, 2), padding=(1, 1), bias=False)\n",
       "  )\n",
       "  (grad_net_x): Sequential(\n",
       "    (0): Conv2d(1, 1, kernel_size=(3, 3), stride=(2, 2), padding=(1, 1), bias=False)\n",
       "    (1): Conv2d(1, 1, kernel_size=(3, 3), stride=(2, 2), padding=(1, 1), bias=False)\n",
       "  )\n",
       "  (diff_net): Sequential(\n",
       "    (0): Conv2d(2, 1, kernel_size=(3, 3), stride=(2, 2), padding=(1, 1), bias=False)\n",
       "    (1): Conv2d(1, 1, kernel_size=(3, 3), stride=(2, 2), padding=(1, 1), bias=False)\n",
       "  )\n",
       ")"
      ]
     },
     "execution_count": 29,
     "metadata": {},
     "output_type": "execute_result"
    }
   ],
   "source": [
    "class GradNet(nn.Module):\n",
    "    def __init__(self):\n",
    "        super(GradNet, self).__init__()\n",
    "        self.grad_net_y = nn.Sequential(nn.Conv2d(1,1,3,padding=1,stride=2,bias=False),nn.Conv2d(1,1,3,padding=1,stride=2,bias=False))\n",
    "        self.grad_net_y[0].weight.data = .0*torch.randn(1,1,3,3)+torch.linspace(-.5,.5,3).view(1,1,3,1)*torch.tensor([.25,.5,.25]).view(1,1,1,3)\n",
    "        self.grad_net_y[1].weight.data[:] = .0*torch.randn(1,1,3,3)+1.0/27.0\n",
    "\n",
    "        self.grad_net_x = nn.Sequential(nn.Conv2d(1,1,3,padding=1,stride=2,bias=False),nn.Conv2d(1,1,3,padding=1,stride=2,bias=False))\n",
    "        self.grad_net_x[0].weight.data = .0*torch.randn(1,1,3,3)+torch.linspace(-.5,.5,3).view(1,1,1,3)*torch.tensor([.25,.5,.25]).view(1,1,3,1)\n",
    "        self.grad_net_x[1].weight.data[:] = .0*torch.randn(1,1,3,3)+1.0/27.0\n",
    "        \n",
    "        self.diff_net = nn.Sequential(nn.Conv2d(2,1,3,padding=1,stride=2,bias=False),nn.Conv2d(1,1,3,padding=1,stride=2,bias=False))\n",
    "        self.diff_net[0].weight.data = .0*torch.randn(1,1,3,3)+torch.tensor([-1,1]).view(1,2,1,1)*torch.tensor([.25,.5,.25]).view(1,1,3,1)*torch.tensor([.25,.5,.25]).view(1,1,1,3)\n",
    "        self.diff_net[1].weight.data[:] = .0*torch.randn(1,1,3,3)+torch.tensor([.25,.5,.25]).view(1,1,3,1)*torch.tensor([.25,.5,.25]).view(1,1,1,3)\n",
    "\n",
    "\n",
    "    def forward(self,fixed,warped):\n",
    "        deriv_x = self.grad_net_x(warped)\n",
    "        deriv_y = self.grad_net_y(warped)\n",
    "        residual = self.diff_net(torch.cat((fixed,warped),1))\n",
    "        return torch.cat((deriv_x,deriv_y,residual),1)\n",
    "weight = 1/(torch.bincount(test_seg.long().reshape(-1))+torch.bincount(train_seg.long().reshape(-1))).float().pow(.35)\n",
    "weight /= weight.mean()\n",
    "weight = weight.cuda()\n",
    "print(weight)\n",
    "\n",
    " \n",
    "grad_net = GradNet()\n",
    "grad_net.cuda()"
   ]
  },
  {
   "cell_type": "code",
   "execution_count": 36,
   "id": "812798c0",
   "metadata": {},
   "outputs": [
    {
     "name": "stdout",
     "output_type": "stream",
     "text": [
      "(9, 320, 312)\n"
     ]
    }
   ],
   "source": [
    "print(data['segs'].shape)\n"
   ]
  },
  {
   "cell_type": "code",
   "execution_count": 31,
   "id": "9c190ab2",
   "metadata": {},
   "outputs": [
    {
     "name": "stdout",
     "output_type": "stream",
     "text": [
      "l_train torch.Size([8, 8, 320, 312])\n"
     ]
    }
   ],
   "source": [
    "train_seg_all = torch.from_numpy(data['segs'][1:])\n",
    "\n",
    "train_edt_all = torch.zeros_like(train_seg_all).cuda()\n",
    "for i in range(8):\n",
    "    train_edt_all[i] = (torch.from_numpy(edt(train_seg_all[i]>0)).float().sqrt()-torch.from_numpy(edt(train_seg_all[i]==0)).float().sqrt()).cuda()\n",
    "label_train_all = F.one_hot(train_seg_all.squeeze().long(),8).permute(0,3,1,2).float().cuda()\n",
    "\n",
    "print('l_train',label_train_all.shape)\n",
    "\n",
    "\n",
    "\n"
   ]
  },
  {
   "cell_type": "code",
   "execution_count": 37,
   "id": "ad168107",
   "metadata": {},
   "outputs": [
    {
     "name": "stdout",
     "output_type": "stream",
     "text": [
      "9 tensor(0.7018) 2.253878593444824\n",
      "19 tensor(0.6877) 4.732390642166138\n",
      "29 tensor(0.7048) 7.53770112991333\n",
      "39 tensor(0.6786) 10.673089742660522\n",
      "49 tensor(0.7281) 13.987592458724976\n",
      "59 tensor(0.7518) 17.758421421051025\n",
      "69 tensor(0.7006) 21.69582223892212\n",
      "79 tensor(0.7579) 25.90260076522827\n",
      "89 tensor(0.7894) 30.481632947921753\n",
      "99 tensor(0.8078) 35.17554473876953\n",
      "109 tensor(0.7341) 39.92523169517517\n",
      "119 tensor(0.7778) 44.645554304122925\n",
      "129 tensor(0.7852) 49.32968878746033\n",
      "139 tensor(0.7799) 54.00282597541809\n",
      "149 tensor(0.7962) 58.662625789642334\n",
      "159 tensor(0.7507) 63.31999111175537\n",
      "169 tensor(0.7414) 68.00566220283508\n",
      "179 tensor(0.7893) 72.77624225616455\n"
     ]
    },
    {
     "ename": "KeyboardInterrupt",
     "evalue": "",
     "output_type": "error",
     "traceback": [
      "\u001b[0;31m---------------------------------------------------------------------------\u001b[0m",
      "\u001b[0;31mKeyboardInterrupt\u001b[0m                         Traceback (most recent call last)",
      "\u001b[0;32m/tmp/ipykernel_1195186/1696025017.py\u001b[0m in \u001b[0;36m<module>\u001b[0;34m\u001b[0m\n\u001b[1;32m     69\u001b[0m \u001b[0;34m\u001b[0m\u001b[0m\n\u001b[1;32m     70\u001b[0m     \u001b[0mloss\u001b[0m \u001b[0;34m=\u001b[0m \u001b[0mnn\u001b[0m\u001b[0;34m.\u001b[0m\u001b[0mMSELoss\u001b[0m\u001b[0;34m(\u001b[0m\u001b[0;34m)\u001b[0m\u001b[0;34m(\u001b[0m\u001b[0mlabel_fix\u001b[0m\u001b[0;34m.\u001b[0m\u001b[0mcuda\u001b[0m\u001b[0;34m(\u001b[0m\u001b[0;34m)\u001b[0m\u001b[0;34m*\u001b[0m\u001b[0mweight\u001b[0m\u001b[0;34m.\u001b[0m\u001b[0mview\u001b[0m\u001b[0;34m(\u001b[0m\u001b[0;36m1\u001b[0m\u001b[0;34m,\u001b[0m\u001b[0;34m-\u001b[0m\u001b[0;36m1\u001b[0m\u001b[0;34m,\u001b[0m\u001b[0;36m1\u001b[0m\u001b[0;34m,\u001b[0m\u001b[0;36m1\u001b[0m\u001b[0;34m)\u001b[0m\u001b[0;34m,\u001b[0m\u001b[0mlabel_warped\u001b[0m\u001b[0;34m*\u001b[0m\u001b[0mweight\u001b[0m\u001b[0;34m.\u001b[0m\u001b[0mview\u001b[0m\u001b[0;34m(\u001b[0m\u001b[0;36m1\u001b[0m\u001b[0;34m,\u001b[0m\u001b[0;34m-\u001b[0m\u001b[0;36m1\u001b[0m\u001b[0;34m,\u001b[0m\u001b[0;36m1\u001b[0m\u001b[0;34m,\u001b[0m\u001b[0;36m1\u001b[0m\u001b[0;34m)\u001b[0m\u001b[0;34m)\u001b[0m\u001b[0;34m\u001b[0m\u001b[0;34m\u001b[0m\u001b[0m\n\u001b[0;32m---> 71\u001b[0;31m     \u001b[0mloss\u001b[0m\u001b[0;34m.\u001b[0m\u001b[0mbackward\u001b[0m\u001b[0;34m(\u001b[0m\u001b[0;34m)\u001b[0m\u001b[0;34m\u001b[0m\u001b[0;34m\u001b[0m\u001b[0m\n\u001b[0m\u001b[1;32m     72\u001b[0m \u001b[0;34m\u001b[0m\u001b[0m\n\u001b[1;32m     73\u001b[0m     \u001b[0moptimizer\u001b[0m\u001b[0;34m.\u001b[0m\u001b[0mstep\u001b[0m\u001b[0;34m(\u001b[0m\u001b[0;34m)\u001b[0m\u001b[0;34m\u001b[0m\u001b[0;34m\u001b[0m\u001b[0m\n",
      "\u001b[0;32m/opt/tljh/user/lib/python3.9/site-packages/torch/_tensor.py\u001b[0m in \u001b[0;36mbackward\u001b[0;34m(self, gradient, retain_graph, create_graph, inputs)\u001b[0m\n\u001b[1;32m    305\u001b[0m                 \u001b[0mcreate_graph\u001b[0m\u001b[0;34m=\u001b[0m\u001b[0mcreate_graph\u001b[0m\u001b[0;34m,\u001b[0m\u001b[0;34m\u001b[0m\u001b[0;34m\u001b[0m\u001b[0m\n\u001b[1;32m    306\u001b[0m                 inputs=inputs)\n\u001b[0;32m--> 307\u001b[0;31m         \u001b[0mtorch\u001b[0m\u001b[0;34m.\u001b[0m\u001b[0mautograd\u001b[0m\u001b[0;34m.\u001b[0m\u001b[0mbackward\u001b[0m\u001b[0;34m(\u001b[0m\u001b[0mself\u001b[0m\u001b[0;34m,\u001b[0m \u001b[0mgradient\u001b[0m\u001b[0;34m,\u001b[0m \u001b[0mretain_graph\u001b[0m\u001b[0;34m,\u001b[0m \u001b[0mcreate_graph\u001b[0m\u001b[0;34m,\u001b[0m \u001b[0minputs\u001b[0m\u001b[0;34m=\u001b[0m\u001b[0minputs\u001b[0m\u001b[0;34m)\u001b[0m\u001b[0;34m\u001b[0m\u001b[0;34m\u001b[0m\u001b[0m\n\u001b[0m\u001b[1;32m    308\u001b[0m \u001b[0;34m\u001b[0m\u001b[0m\n\u001b[1;32m    309\u001b[0m     \u001b[0;32mdef\u001b[0m \u001b[0mregister_hook\u001b[0m\u001b[0;34m(\u001b[0m\u001b[0mself\u001b[0m\u001b[0;34m,\u001b[0m \u001b[0mhook\u001b[0m\u001b[0;34m)\u001b[0m\u001b[0;34m:\u001b[0m\u001b[0;34m\u001b[0m\u001b[0;34m\u001b[0m\u001b[0m\n",
      "\u001b[0;32m/opt/tljh/user/lib/python3.9/site-packages/torch/autograd/__init__.py\u001b[0m in \u001b[0;36mbackward\u001b[0;34m(tensors, grad_tensors, retain_graph, create_graph, grad_variables, inputs)\u001b[0m\n\u001b[1;32m    152\u001b[0m         \u001b[0mretain_graph\u001b[0m \u001b[0;34m=\u001b[0m \u001b[0mcreate_graph\u001b[0m\u001b[0;34m\u001b[0m\u001b[0;34m\u001b[0m\u001b[0m\n\u001b[1;32m    153\u001b[0m \u001b[0;34m\u001b[0m\u001b[0m\n\u001b[0;32m--> 154\u001b[0;31m     Variable._execution_engine.run_backward(\n\u001b[0m\u001b[1;32m    155\u001b[0m         \u001b[0mtensors\u001b[0m\u001b[0;34m,\u001b[0m \u001b[0mgrad_tensors_\u001b[0m\u001b[0;34m,\u001b[0m \u001b[0mretain_graph\u001b[0m\u001b[0;34m,\u001b[0m \u001b[0mcreate_graph\u001b[0m\u001b[0;34m,\u001b[0m \u001b[0minputs\u001b[0m\u001b[0;34m,\u001b[0m\u001b[0;34m\u001b[0m\u001b[0;34m\u001b[0m\u001b[0m\n\u001b[1;32m    156\u001b[0m         allow_unreachable=True, accumulate_grad=True)  # allow_unreachable flag\n",
      "\u001b[0;31mKeyboardInterrupt\u001b[0m: "
     ]
    }
   ],
   "source": [
    "lambdas = torch.logspace(math.log10(150),math.log10(70),10)\n",
    "\n",
    "lse = LSESolver().apply\n",
    "\n",
    "\n",
    "\n",
    "import time\n",
    "\n",
    "t0 = time.time()\n",
    "\n",
    "\n",
    "grad_net = GradNet()\n",
    "grad_net.cuda()\n",
    "run_tre3 = torch.zeros(400,10)\n",
    "\n",
    "\n",
    "optimizer = torch.optim.AdamW(grad_net.parameters(),lr=0.001)\n",
    "scheduler = torch.optim.lr_scheduler.ExponentialLR(optimizer,.99)\n",
    "\n",
    "cases = torch.cat((torch.linspace(1.1,8,100).ceil().long(),torch.ones(300).long()*8))\n",
    "iters = torch.cat((torch.linspace(4.1,10,100).ceil().long(),torch.ones(300).long()*10))\n",
    "\n",
    "#outer-loop\n",
    "for i in range(400):\n",
    "    #print(i,int(cases[i]),int(iters[i]))\n",
    "    idx = torch.randperm(8)[:2]#\n",
    "    affine = F.affine_grid(torch.eye(2,3).unsqueeze(0).cuda()+.05*torch.randn(1,2,3).cuda(),(1,1,H,W))\n",
    "    fixed = F.grid_sample(train_edt_all[idx[:1]].unsqueeze(1)*20+torch.randn_like(test_edt).cuda(),affine,padding_mode='border')#data.fixed[:,:,1:-1]\n",
    "    moving = F.grid_sample(train_edt_all[idx[1:2]].unsqueeze(1)*20+torch.randn_like(test_edt).cuda(),affine,padding_mode='border')#data.fixed[:,:,1:-1]\n",
    "    label_fix = F.grid_sample(label_train_all[idx[:1]],affine,padding_mode='border')\n",
    "    label_moving = F.grid_sample(label_train_all[idx[1:2]],affine,padding_mode='border')\n",
    "\n",
    "\n",
    "\n",
    "    optimizer.zero_grad()\n",
    "    update = torch.zeros(1,2,H//4,W//4).cuda()\n",
    "\n",
    "\n",
    "    #inner-loop\n",
    "    for iter in range(int(iters[i])):\n",
    "        L = laplaceMatrix(H//4,W//4,lambdas[iter])\n",
    "\n",
    "        grid = F.avg_pool2d(F.avg_pool2d(2*update.div(torch.tensor([W-.5,H-.5]).cuda().view(1,2,1,1)),3,stride=1,padding=1),3,stride=1,padding=1)\\\n",
    "        +F.affine_grid(torch.eye(2,3).cuda().unsqueeze(0),(1,1,H//4,W//4),align_corners=False).permute(0,3,1,2)\n",
    "\n",
    "\n",
    "        warped = F.grid_sample(moving,F.interpolate(grid,scale_factor=4,mode='bilinear').permute(0,2,3,1),align_corners=False,mode='bilinear',padding_mode='border')\n",
    "\n",
    "        grad = grad_net(fixed,warped)\n",
    "        bx = -((grad[:,2:])*grad[:,:1]).view(-1,1) - torch.sparse.mm(L,update[0,0].view(-1,1))\n",
    "        by = -((grad[:,2:])*grad[:,1:2]).view(-1,1) - torch.sparse.mm(L,update[0,1].view(-1,1))\n",
    "\n",
    "        x = lse(L,torch.pow(grad[0,0],2).view(-1),bx)\n",
    "        y = lse(L,torch.pow(grad[0,1],2).view(-1),by)\n",
    "\n",
    "\n",
    "        update[0,0] += x.view(H//4,W//4)\n",
    "        update[0,1] += y.view(H//4,W//4)\n",
    "\n",
    "\n",
    "\n",
    "\n",
    "        label_warped = F.grid_sample(label_moving.cuda().cuda().view(1,-1,H,W),F.interpolate(grid,scale_factor=4,mode='bilinear').permute(0,2,3,1))\n",
    "\n",
    "\n",
    "        with torch.no_grad():\n",
    "            d2 = dice_coeff(label_fix.cuda().argmax(1),label_warped.argmax(1),8).cpu()\n",
    "            run_tre3[i,iter] = d2.mean()\n",
    "\n",
    "    loss = nn.MSELoss()(label_fix.cuda()*weight.view(1,-1,1,1),label_warped*weight.view(1,-1,1,1))\n",
    "    loss.backward()\n",
    "\n",
    "    optimizer.step()\n",
    "    scheduler.step()\n",
    "    if(i%10==9):\n",
    "        print(i,run_tre3[i-9:i].max(1)[0].mean(0),time.time()-t0)\n",
    "\n",
    "    #print(d2,d2.mean())"
   ]
  },
  {
   "cell_type": "code",
   "execution_count": 38,
   "id": "7bbd6b45",
   "metadata": {},
   "outputs": [
    {
     "name": "stdout",
     "output_type": "stream",
     "text": [
      "torch.Size([400, 10])\n"
     ]
    },
    {
     "data": {
      "image/png": "[encoded data removed]",
      "text/plain": [
       "<Figure size 432x288 with 1 Axes>"
      ]
     },
     "metadata": {
      "needs_background": "light"
     },
     "output_type": "display_data"
    }
   ],
   "source": [
    "#    loss = nn.MSELoss()(label_fix.cuda()*weight.view(1,-1,1,1),label_warped*weight.view(1,-1,1,1))\n",
    "#    loss.backward()\n",
    "#    \n",
    "#    optimizer.step()\n",
    "#    scheduler.step()\n",
    "#    if(i%10==9):\n",
    "#        print(i,run_tre3[i-9:i,-1].mean(0),time.time()-t0)\n",
    "#print('time total',time.time()-t0)#\n",
    "print(run_tre3.shape)\n",
    "plt.plot(run_tre3.max(1)[0])\n",
    "\n",
    "plt.show()\n",
    "\n"
   ]
  },
  {
   "cell_type": "code",
   "execution_count": 40,
   "id": "12ff86e4",
   "metadata": {},
   "outputs": [
    {
     "name": "stderr",
     "output_type": "stream",
     "text": [
      "/opt/tljh/user/lib/python3.9/site-packages/torch/nn/functional.py:3631: UserWarning: Default upsampling behavior when mode=bilinear is changed to align_corners=False since 0.4.0. Please specify align_corners=True if the old behavior is desired. See the documentation of nn.Upsample for details.\n",
      "  warnings.warn(\n",
      "/opt/tljh/user/lib/python3.9/site-packages/torch/nn/functional.py:4003: UserWarning: Default grid_sample and affine_grid behavior has changed to align_corners=False since 1.3.0. Please specify align_corners=True if the old behavior is desired. See the documentation of grid_sample for details.\n",
      "  warnings.warn(\n"
     ]
    },
    {
     "name": "stdout",
     "output_type": "stream",
     "text": [
      "time total 0.3561282157897949\n"
     ]
    },
    {
     "data": {
      "image/png": "[encoded data removed]",
      "text/plain": [
       "<Figure size 432x288 with 1 Axes>"
      ]
     },
     "metadata": {
      "needs_background": "light"
     },
     "output_type": "display_data"
    },
    {
     "name": "stdout",
     "output_type": "stream",
     "text": [
      "tensor([0.9088, 0.8074, 0.8070, 0.8736, 0.8845, 0.8394, 0.8457]) tensor(0.8523)\n"
     ]
    }
   ],
   "source": [
    "\n",
    "#hold out validation pair\n",
    "train_seg = torch.from_numpy(data['segs'][:1])\n",
    "train_edt = torch.from_numpy(edt(data['segs'][:1][0]>0)).float().sqrt()-torch.from_numpy(edt(data['segs'][:1][0]==0)).float().sqrt()\n",
    "\n",
    "train_edt = train_edt.unsqueeze(0).unsqueeze(0)\n",
    "test_seg = torch.from_numpy(data['test_seg'])\n",
    "test_edt = torch.from_numpy(edt(data['test_seg'][0]>0)).float().sqrt()-torch.from_numpy(edt(data['test_seg'][0]==0)).float().sqrt()\n",
    "test_edt = test_edt.unsqueeze(0).unsqueeze(0)\n",
    "label_fix = F.one_hot(test_seg.squeeze().long(),8).permute(2,0,1).unsqueeze(0).float()\n",
    "label_moving = F.one_hot(train_seg.squeeze().long(),8).permute(2,0,1).unsqueeze(0).float()\n",
    "\n",
    "fixed = test_edt*20+torch.randn_like(test_edt)#data.fixed[:,:,1:-1]\n",
    "moving = train_edt*20+torch.randn_like(test_edt)#data.fixed[:,:,1:-1]\n",
    "fixed=fixed.cuda()\n",
    "moving = moving.cuda()\n",
    "\n",
    "lambdas = torch.logspace(math.log10(150),math.log10(70),10)\n",
    "\n",
    "lse = LSESolver().apply\n",
    "\n",
    "\n",
    "\n",
    "import time\n",
    "\n",
    "t0 = time.time()\n",
    "\n",
    "\n",
    "run_tre4 = torch.zeros(10)\n",
    "\n",
    "\n",
    "update = torch.zeros(1,2,H//4,W//4).cuda()\n",
    "\n",
    "grid = F.avg_pool2d(F.avg_pool2d(2*update.div(torch.tensor([W-.5,H-.5]).cuda().view(1,2,1,1)),3,stride=1,padding=1),3,stride=1,padding=1)\\\n",
    "+F.affine_grid(torch.eye(2,3).cuda().unsqueeze(0),(1,1,H//4,W//4),align_corners=False).permute(0,3,1,2)\n",
    "\n",
    "#inner-loop\n",
    "for iter in range(10):\n",
    "    L = laplaceMatrix(H//4,W//4,lambdas[iter])\n",
    "\n",
    "\n",
    "    warped = F.grid_sample(moving,F.interpolate(grid,scale_factor=4,mode='bilinear').permute(0,2,3,1),align_corners=False,mode='bilinear',padding_mode='border')\n",
    "\n",
    "    grad = grad_net(fixed,warped)\n",
    "\n",
    "\n",
    "    bx = -((grad[:,2:])*grad[:,:1]).view(-1,1) - torch.sparse.mm(L,update[0,0].view(-1,1))\n",
    "    by = -((grad[:,2:])*grad[:,1:2]).view(-1,1) - torch.sparse.mm(L,update[0,1].view(-1,1))\n",
    "\n",
    "    x = lse(L,torch.pow(grad[0,0],2).view(-1),bx)\n",
    "    y = lse(L,torch.pow(grad[0,1],2).view(-1),by)\n",
    "\n",
    "\n",
    "    update[0,0] += x.view(H//4,W//4)\n",
    "    update[0,1] += y.view(H//4,W//4)\n",
    "\n",
    "    grid = F.avg_pool2d(F.avg_pool2d(2*update.div(torch.tensor([W-.5,H-.5]).cuda().view(1,2,1,1)),3,stride=1,padding=1),3,stride=1,padding=1)\\\n",
    "    +F.affine_grid(torch.eye(2,3).cuda().unsqueeze(0),(1,1,H//4,W//4),align_corners=False).permute(0,3,1,2)\n",
    "\n",
    "\n",
    "\n",
    "    label_warped = F.grid_sample(label_moving.cuda().view(1,-1,H,W),F.interpolate(grid,scale_factor=4,mode='bilinear').permute(0,2,3,1))\n",
    "\n",
    "\n",
    "    with torch.no_grad():\n",
    "        d2 = dice_coeff(label_fix.cuda().argmax(1),label_warped.argmax(1),8).cpu()\n",
    "        run_tre4[iter] = d2.mean()\n",
    "\n",
    "print('time total',time.time()-t0)\n",
    "\n",
    "\n",
    "\n",
    "import matplotlib\n",
    "matplotlib.rcParams.update({'font.size': 15})\n",
    "plt.plot(torch.arange(25),100*run_tre1,'s-',color='tab:purple',linewidth=2,label='Adam 1st order')\n",
    "plt.plot(torch.arange(10),100*run_tre2,'o-',color='tab:orange',linewidth=2,label='Gauss-Newton')\n",
    "plt.plot(torch.arange(10),100*run_tre4,'d-',color='tab:green',linewidth=2,label='Learned GN')\n",
    "\n",
    "plt.xlabel('iterations')\n",
    "plt.ylabel('Avg. Dice (7 labels)')\n",
    "\n",
    "plt.legend()\n",
    "plt.savefig('midl2022_short_learned.pdf')\n",
    "plt.show()\n",
    "\n",
    "print(d2,d2.mean())\n",
    "\n",
    "\n",
    "\n",
    "\n"
   ]
  },
  {
   "cell_type": "code",
   "execution_count": null,
   "id": "4d5136aa",
   "metadata": {},
   "outputs": [],
   "source": []
  }
 ],
 "metadata": {
  "kernelspec": {
   "display_name": "Python 3 (ipykernel)",
   "language": "python",
   "name": "python3"
  },
  "language_info": {
   "codemirror_mode": {
    "name": "ipython",
    "version": 3
   },
   "file_extension": ".py",
   "mimetype": "text/x-python",
   "name": "python",
   "nbconvert_exporter": "python",
   "pygments_lexer": "ipython3",
   "version": "3.9.10"
  }
 },
 "nbformat": 4,
 "nbformat_minor": 5
}
